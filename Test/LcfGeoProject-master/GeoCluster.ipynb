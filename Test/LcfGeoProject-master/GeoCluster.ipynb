{
 "cells": [
  {
   "cell_type": "markdown",
   "metadata": {},
   "source": [
    "**地理坐标聚类**"
   ]
  },
  {
   "cell_type": "code",
   "execution_count": 1,
   "metadata": {
    "collapsed": true
   },
   "outputs": [],
   "source": [
    "import matplotlib.pyplot as plt\n",
    "import numpy as np\n",
    "from sklearn.cluster import KMeans"
   ]
  },
  {
   "cell_type": "code",
   "execution_count": 2,
   "metadata": {
    "collapsed": false
   },
   "outputs": [
    {
     "data": {
      "text/plain": [
       "array([[ 0.854851  ,  0.23563352],\n",
       "       [ 0.71865792,  0.73929573],\n",
       "       [ 0.47994312,  0.18305247],\n",
       "       [ 0.67464347,  0.40257099],\n",
       "       [ 0.22160723,  0.91457652],\n",
       "       [ 0.59193878,  0.23120549],\n",
       "       [ 0.1573735 ,  0.99379984],\n",
       "       [ 0.55028744,  0.31988137],\n",
       "       [ 0.14501069,  0.31083385],\n",
       "       [ 0.09741856,  0.84159934],\n",
       "       [ 0.92586195,  0.79907525],\n",
       "       [ 0.34035937,  0.70791765],\n",
       "       [ 0.29522435,  0.18326309],\n",
       "       [ 0.21886804,  0.81904587],\n",
       "       [ 0.03254632,  0.99632777],\n",
       "       [ 0.93324273,  0.59115216],\n",
       "       [ 0.47146826,  0.36747042],\n",
       "       [ 0.68430096,  0.37520729],\n",
       "       [ 0.65119908,  0.93936144],\n",
       "       [ 0.90526326,  0.23504645],\n",
       "       [ 0.68726206,  0.68366711],\n",
       "       [ 0.24522355,  0.68471624],\n",
       "       [ 0.60059563,  0.87490054],\n",
       "       [ 0.436273  ,  0.09723361],\n",
       "       [ 0.23588466,  0.05740386],\n",
       "       [ 0.25321698,  0.22187098],\n",
       "       [ 0.24350871,  0.60553629],\n",
       "       [ 0.23145548,  0.20008618],\n",
       "       [ 0.1193619 ,  0.62597331],\n",
       "       [ 0.61800934,  0.11582212],\n",
       "       [ 0.13687744,  0.21379012],\n",
       "       [ 0.28720419,  0.99155183],\n",
       "       [ 0.00724015,  0.39138927],\n",
       "       [ 0.17101449,  0.36231578],\n",
       "       [ 0.1454872 ,  0.9534437 ],\n",
       "       [ 0.13478162,  0.45953191],\n",
       "       [ 0.96340801,  0.26069171],\n",
       "       [ 0.881901  ,  0.46173615],\n",
       "       [ 0.73918437,  0.58333842],\n",
       "       [ 0.62021051,  0.04300214],\n",
       "       [ 0.0299353 ,  0.54798897],\n",
       "       [ 0.94233708,  0.51424024],\n",
       "       [ 0.87158856,  0.4856765 ],\n",
       "       [ 0.24681195,  0.42197809],\n",
       "       [ 0.36061942,  0.66247097],\n",
       "       [ 0.69491934,  0.62206246],\n",
       "       [ 0.39856012,  0.24694991],\n",
       "       [ 0.18632887,  0.06446688],\n",
       "       [ 0.92304278,  0.48998903],\n",
       "       [ 0.94842296,  0.65528135],\n",
       "       [ 0.86694818,  0.84005928],\n",
       "       [ 0.17683993,  0.66783092],\n",
       "       [ 0.19554228,  0.14940499],\n",
       "       [ 0.38142368,  0.22145154],\n",
       "       [ 0.68550831,  0.26004739],\n",
       "       [ 0.52126451,  0.95058742],\n",
       "       [ 0.62835263,  0.20448621],\n",
       "       [ 0.10155555,  0.04808586],\n",
       "       [ 0.73229966,  0.8430484 ],\n",
       "       [ 0.97224375,  0.13531745],\n",
       "       [ 0.34893943,  0.08157645],\n",
       "       [ 0.7061391 ,  0.21867251],\n",
       "       [ 0.90505073,  0.19262673],\n",
       "       [ 0.60827006,  0.65202627],\n",
       "       [ 0.41663882,  0.31860601],\n",
       "       [ 0.98818395,  0.58116228],\n",
       "       [ 0.35703615,  0.99986908],\n",
       "       [ 0.4825567 ,  0.8111036 ],\n",
       "       [ 0.96331344,  0.16330589],\n",
       "       [ 0.67319145,  0.4206738 ],\n",
       "       [ 0.74024671,  0.78238546],\n",
       "       [ 0.28734105,  0.54399894],\n",
       "       [ 0.13831887,  0.65378073],\n",
       "       [ 0.8781196 ,  0.95508993],\n",
       "       [ 0.9828085 ,  0.6406107 ],\n",
       "       [ 0.4867201 ,  0.06894793],\n",
       "       [ 0.72932957,  0.41065263],\n",
       "       [ 0.25193094,  0.57517957],\n",
       "       [ 0.12197318,  0.19104401],\n",
       "       [ 0.04179795,  0.60087121],\n",
       "       [ 0.4756483 ,  0.08174651],\n",
       "       [ 0.28874594,  0.54595024],\n",
       "       [ 0.6805278 ,  0.11020519],\n",
       "       [ 0.22418776,  0.60923492],\n",
       "       [ 0.67783752,  0.34232244],\n",
       "       [ 0.70018066,  0.6923499 ],\n",
       "       [ 0.67231054,  0.84067409],\n",
       "       [ 0.84378951,  0.10580737],\n",
       "       [ 0.53488848,  0.61087072],\n",
       "       [ 0.26682739,  0.33076478],\n",
       "       [ 0.25821043,  0.16713311],\n",
       "       [ 0.87028743,  0.87597513],\n",
       "       [ 0.13661572,  0.9582191 ],\n",
       "       [ 0.55370366,  0.6764826 ],\n",
       "       [ 0.37485897,  0.66249231],\n",
       "       [ 0.12231987,  0.88468855],\n",
       "       [ 0.33742152,  0.11934803],\n",
       "       [ 0.75044569,  0.73751219],\n",
       "       [ 0.09162623,  0.35005735],\n",
       "       [ 0.31090152,  0.37930958]])"
      ]
     },
     "execution_count": 2,
     "metadata": {},
     "output_type": "execute_result"
    }
   ],
   "source": [
    "#利用随机点进行聚类\n",
    "\n",
    "\n",
    "data = np.random.rand(100, 2) \n",
    "#生成一个随机数据，样本大小为100, 特征数为2（这里因为要画二维图，所以就将特征设为2）\n",
    "\n",
    "data"
   ]
  },
  {
   "cell_type": "code",
   "execution_count": 3,
   "metadata": {
    "collapsed": false
   },
   "outputs": [
    {
     "data": {
      "image/png": "[encoded data removed]",
      "text/plain": [
       "<matplotlib.figure.Figure at 0x178929b7b38>"
      ]
     },
     "metadata": {},
     "output_type": "display_data"
    }
   ],
   "source": [
    "%matplotlib inline\n",
    "\n",
    "estimator = KMeans(n_clusters=3)#构造聚类器，构造一个聚类数为3的聚类器\n",
    "estimator.fit(data)#聚类\n",
    "label_pred = estimator.labels_ #获取聚类标签\n",
    "centroids = estimator.cluster_centers_ #获取聚类中心\n",
    "inertia = estimator.inertia_ # 获取聚类准则的总和\n",
    "mark = ['or', 'ob', 'og', 'ok', '^r', '+r', 'sr', 'dr', '<r', 'pr']\n",
    "#这里'or'代表中的'o'代表画圈，'r'代表颜色为红色，后面的依次类推\n",
    "color = 0\n",
    "j = 0 \n",
    "for i in label_pred:\n",
    "    plt.plot([data[j:j+1,0]], [data[j:j+1,1]], mark[i], markersize = 5)\n",
    "    j +=1\n",
    "#plt.show()"
   ]
  },
  {
   "cell_type": "code",
   "execution_count": 8,
   "metadata": {
    "collapsed": false
   },
   "outputs": [
    {
     "data": {
      "text/plain": [
       "[117.221753, 31.82258054]"
      ]
     },
     "execution_count": 8,
     "metadata": {},
     "output_type": "execute_result"
    }
   ],
   "source": [
    "#读入经纬度坐标（WGS84坐标系）\n",
    "\n",
    "import csv\n",
    "\n",
    "\n",
    "reader = csv.reader(open(\"./cityForCluster.csv\"))  #数据目前不上传\n",
    "'''\n",
    "geoCrd=[]\n",
    "for lngq,latq in reader:\n",
    "    k=[float(lngq),float(latq)]\n",
    "    geoCrd.append(k)\n",
    "'''\n",
    "geo_crd=[[float(lngq),float(latq)] for lngq,latq in reader]\n",
    "geo_crd[0]"
   ]
  },
  {
   "cell_type": "code",
   "execution_count": 9,
   "metadata": {
    "collapsed": false
   },
   "outputs": [
    {
     "ename": "TypeError",
     "evalue": "list indices must be integers or slices, not tuple",
     "traceback": [
      "\u001b[0;31m---------------------------------------------------------------------------\u001b[0m",
      "\u001b[0;31mTypeError\u001b[0m                                 Traceback (most recent call last)",
      "\u001b[0;32m<ipython-input-9-cf00b67ce077>\u001b[0m in \u001b[0;36m<module>\u001b[0;34m()\u001b[0m\n\u001b[1;32m      9\u001b[0m \u001b[0mj\u001b[0m \u001b[1;33m=\u001b[0m \u001b[1;36m0\u001b[0m\u001b[1;33m\u001b[0m\u001b[0m\n\u001b[1;32m     10\u001b[0m \u001b[1;32mfor\u001b[0m \u001b[0mi\u001b[0m \u001b[1;32min\u001b[0m \u001b[0mlabel_pred\u001b[0m\u001b[1;33m:\u001b[0m\u001b[1;33m\u001b[0m\u001b[0m\n\u001b[0;32m---> 11\u001b[0;31m     \u001b[0mplt\u001b[0m\u001b[1;33m.\u001b[0m\u001b[0mplot\u001b[0m\u001b[1;33m(\u001b[0m\u001b[1;33m[\u001b[0m\u001b[0mgeo_crd\u001b[0m\u001b[1;33m[\u001b[0m\u001b[0mj\u001b[0m\u001b[1;33m:\u001b[0m\u001b[0mj\u001b[0m\u001b[1;33m+\u001b[0m\u001b[1;36m1\u001b[0m\u001b[1;33m,\u001b[0m\u001b[1;36m0\u001b[0m\u001b[1;33m]\u001b[0m\u001b[1;33m]\u001b[0m\u001b[1;33m,\u001b[0m \u001b[1;33m[\u001b[0m\u001b[0mgeo_crd\u001b[0m\u001b[1;33m[\u001b[0m\u001b[0mj\u001b[0m\u001b[1;33m:\u001b[0m\u001b[0mj\u001b[0m\u001b[1;33m+\u001b[0m\u001b[1;36m1\u001b[0m\u001b[1;33m,\u001b[0m\u001b[1;36m1\u001b[0m\u001b[1;33m]\u001b[0m\u001b[1;33m]\u001b[0m\u001b[1;33m,\u001b[0m \u001b[0mmark_geo\u001b[0m\u001b[1;33m[\u001b[0m\u001b[0mi\u001b[0m\u001b[1;33m]\u001b[0m\u001b[1;33m,\u001b[0m \u001b[0mmarkersize\u001b[0m \u001b[1;33m=\u001b[0m \u001b[1;36m5\u001b[0m\u001b[1;33m)\u001b[0m\u001b[1;33m\u001b[0m\u001b[0m\n\u001b[0m\u001b[1;32m     12\u001b[0m     \u001b[0mj\u001b[0m \u001b[1;33m+=\u001b[0m\u001b[1;36m1\u001b[0m\u001b[1;33m\u001b[0m\u001b[0m\n",
      "\u001b[0;31mTypeError\u001b[0m: list indices must be integers or slices, not tuple"
     ],
     "output_type": "error"
    }
   ],
   "source": [
    "esti_geo = KMeans(n_clusters=4)#构造聚类器，构造一个聚类数为3的聚类器\n",
    "esti_geo.fit(geo_crd)#聚类\n",
    "label_pred = esti_geo.labels_ #获取聚类标签\n",
    "centroids = esti_geo.cluster_centers_ #获取聚类中心\n",
    "inertia = esti_geo.inertia_ # 获取聚类准则的总和\n",
    "mark_geo = ['or', 'ob', 'og', 'ok', '^r', '+r', 'sr', 'dr', '<r', 'pr']\n",
    "#这里'or'代表中的'o'代表画圈，'r'代表颜色为红色，后面的依次类推\n",
    "color = 0\n",
    "j = 0 \n",
    "for i in label_pred:\n",
    "    plt.plot([geo_crd[j:j+1,0]], [geo_crd[j:j+1,1]], mark_geo[i], markersize = 5)\n",
    "    j +=1"
   ]
  },
  {
   "cell_type": "code",
   "execution_count": 11,
   "metadata": {
    "collapsed": false
   },
   "outputs": [
    {
     "data": {
      "image/png": "[encoded data removed]",
      "text/plain": [
       "<matplotlib.figure.Figure at 0x1789302ad30>"
      ]
     },
     "metadata": {},
     "output_type": "display_data"
    }
   ],
   "source": [
    "%matplotlib inline\n",
    "\n",
    "data=np.array(geo_crd)\n",
    "estimator = KMeans(n_clusters=3)#构造聚类器，构造一个聚类数为3的聚类器\n",
    "estimator.fit(data)#聚类\n",
    "label_pred = estimator.labels_ #获取聚类标签\n",
    "centroids = estimator.cluster_centers_ #获取聚类中心\n",
    "inertia = estimator.inertia_ # 获取聚类准则的总和\n",
    "mark = ['or', 'ob', 'og', 'ok', '^r', '+r', 'sr', 'dr', '<r', 'pr']\n",
    "#这里'or'代表中的'o'代表画圈，'r'代表颜色为红色，后面的依次类推\n",
    "color = 0\n",
    "j = 0 \n",
    "for i in label_pred:\n",
    "    plt.plot([data[j:j+1,0]], [data[j:j+1,1]], mark[i], markersize = 5)\n",
    "    j +=1"
   ]
  },
  {
   "cell_type": "code",
   "execution_count": 12,
   "metadata": {
    "collapsed": false
   },
   "outputs": [
    {
     "data": {
      "image/png": "[encoded data removed]",
      "text/plain": [
       "<matplotlib.figure.Figure at 0x17893034080>"
      ]
     },
     "metadata": {},
     "output_type": "display_data"
    }
   ],
   "source": [
    "%matplotlib inline\n",
    "\n",
    "data=np.array(geo_crd)\n",
    "estimator = KMeans(n_clusters=5)#构造聚类器，构造一个聚类数为3的聚类器\n",
    "estimator.fit(data)#聚类\n",
    "label_pred = estimator.labels_ #获取聚类标签\n",
    "centroids = estimator.cluster_centers_ #获取聚类中心\n",
    "inertia = estimator.inertia_ # 获取聚类准则的总和\n",
    "mark = ['or', 'ob', 'og', 'ok', '^r', '+r', 'sr', 'dr', '<r', 'pr']\n",
    "#这里'or'代表中的'o'代表画圈，'r'代表颜色为红色，后面的依次类推\n",
    "color = 0\n",
    "j = 0 \n",
    "for i in label_pred:\n",
    "    plt.plot([data[j:j+1,0]], [data[j:j+1,1]], mark[i], markersize = 5)\n",
    "    j +=1"
   ]
  }
 ],
 "metadata": {
  "kernelspec": {
   "display_name": "Python 3",
   "language": "python",
   "name": "python3"
  },
  "language_info": {
   "codemirror_mode": {
    "name": "ipython",
    "version": 3
   },
   "file_extension": ".py",
   "mimetype": "text/x-python",
   "name": "python",
   "nbconvert_exporter": "python",
   "pygments_lexer": "ipython3",
   "version": "3.6.0"
  }
 },
 "nbformat": 4,
 "nbformat_minor": 2
}
